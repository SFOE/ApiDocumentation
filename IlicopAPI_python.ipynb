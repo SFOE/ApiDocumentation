{
 "cells": [
  {
   "cell_type": "markdown",
   "metadata": {},
   "source": [
    "# 1. Upload Interlis file for validation"
   ]
  },
  {
   "cell_type": "markdown",
   "metadata": {},
   "source": [
    "Import the \"requests\" library. \n",
    "Use the \"POST Upload\" endpoint. \n",
    "Upload the Interlis file."
   ]
  },
  {
   "cell_type": "code",
   "execution_count": 67,
   "metadata": {},
   "outputs": [],
   "source": [
    "import requests\n",
    "response = requests.post('https://ilicop.ch/api/v1/upload', \n",
    "                         files={'file':open('D:\\WasteIncinerationPlants.xtf')}).json()"
   ]
  },
  {
   "cell_type": "code",
   "execution_count": 68,
   "metadata": {},
   "outputs": [
    {
     "data": {
      "text/plain": [
       "'2c5e901a-d92a-459f-b655-06e44b0b490d'"
      ]
     },
     "execution_count": 68,
     "metadata": {},
     "output_type": "execute_result"
    }
   ],
   "source": [
    "jobid = response['jobId']\n",
    "jobid"
   ]
  },
  {
   "cell_type": "markdown",
   "metadata": {},
   "source": [
    "# 2. Check status of validation"
   ]
  },
  {
   "cell_type": "markdown",
   "metadata": {},
   "source": [
    "The validation starts as soon as the Interlis file was uploaded. Use the \"GET Status\" to check status of the validation. Bigger files take some time to validate. If the status is \"processing\" check again. "
   ]
  },
  {
   "cell_type": "code",
   "execution_count": 69,
   "metadata": {},
   "outputs": [
    {
     "data": {
      "text/plain": [
       "{'jobId': '2c5e901a-d92a-459f-b655-06e44b0b490d',\n",
       " 'status': 'completed',\n",
       " 'statusMessage': 'Die Daten sind modellkonform.',\n",
       " 'logUrl': '/api/v1/download?jobId=2c5e901a-d92a-459f-b655-06e44b0b490d&logType=log',\n",
       " 'xtfLogUrl': '/api/v1/download?jobId=2c5e901a-d92a-459f-b655-06e44b0b490d&logType=xtf'}"
      ]
     },
     "execution_count": 69,
     "metadata": {},
     "output_type": "execute_result"
    }
   ],
   "source": [
    "status = requests.get('https://ilicop.ch/api/v1/status/' + jobid)\n",
    "status.json()"
   ]
  },
  {
   "cell_type": "markdown",
   "metadata": {},
   "source": [
    "# 3. Download Logfiles"
   ]
  },
  {
   "cell_type": "markdown",
   "metadata": {},
   "source": [
    "Use the \"GET Download\" endpoint to download logfiles. You can download logfiles as plain text or as xml file."
   ]
  },
  {
   "cell_type": "code",
   "execution_count": 70,
   "metadata": {},
   "outputs": [
    {
     "data": {
      "text/plain": [
       "'Info: ilivalidator-1.12.0-0d0c3903d0cd203caac2ae987f9040c2b79ddb42\\nInfo: ili2c-5.2.8-61f7212579ac3c4ae219d511afb5a0615855bc73\\nInfo: iox-ili-1.21.12-87afbf0c8bd2241377fc518d8c40e4e99946bb23\\nInfo: User <abc>\\nInfo: Start date 2022-11-18 12:27\\nInfo: maxMemory 2097152 KB\\nInfo: dataFile </uploads/2c5e901a-d92a-459f-b655-06e44b0b490d/lhmrio43.xtf>\\nInfo: pluginFolder </ilitools/ilivalidator/1.12.0/plugins>\\nInfo: modeldir <%ITF_DIR;http://models.interlis.ch/;https://vsa.ch/models>\\nInfo: lookup model <Units> 2.3 in repository </uploads/2c5e901a-d92a-459f-b655-06e44b0b490d/>\\nInfo: lookup model <Units> 2.3 in repository <http://models.interlis.ch/>\\nInfo: lookup model <WithOneState_V1> 2.3 in repository </uploads/2c5e901a-d92a-459f-b655-06e44b0b490d/>\\nInfo: lookup model <WithOneState_V1> 2.3 in repository <http://models.interlis.ch/>\\nInfo: lookup model <WithOneState_V1> 2.3 in repository <https://vsa.ch/models/>\\nInfo: lookup model <WithOneState_V1> 2.3 in repository <https://405.sia.ch/models/>\\nInfo: lookup model <WithOneState_V1> 2.3 in repository <http://models.geo.admin.ch/>\\nInfo: lookup model <CoordSys> 2.3 in repository </uploads/2c5e901a-d92a-459f-b655-06e44b0b490d/>\\nInfo: lookup model <CoordSys> 2.3 in repository <http://models.interlis.ch/>\\nInfo: lookup model <GeometryCHLV03_V1> 2.3 in repository </uploads/2c5e901a-d92a-459f-b655-06e44b0b490d/>\\nInfo: lookup model <GeometryCHLV03_V1> 2.3 in repository <http://models.interlis.ch/>\\nInfo: lookup model <GeometryCHLV03_V1> 2.3 in repository <https://vsa.ch/models/>\\nInfo: lookup model <GeometryCHLV03_V1> 2.3 in repository <https://405.sia.ch/models/>\\nInfo: lookup model <GeometryCHLV03_V1> 2.3 in repository <http://models.geo.admin.ch/>\\nInfo: lookup model <WasteIncinerationPlants_V1> 2.3 in repository </uploads/2c5e901a-d92a-459f-b655-06e44b0b490d/>\\nInfo: lookup model <WasteIncinerationPlants_V1> 2.3 in repository <http://models.interlis.ch/>\\nInfo: lookup model <WasteIncinerationPlants_V1> 2.3 in repository <https://vsa.ch/models/>\\nInfo: lookup model <WasteIncinerationPlants_V1> 2.3 in repository <https://405.sia.ch/models/>\\nInfo: lookup model <WasteIncinerationPlants_V1> 2.3 in repository <http://models.geo.admin.ch/>\\nInfo: ilifile </app/.ilicache/models.geo.admin.ch/CH/CHBase_Part5_MODIFICATIONINFO_V1.ili>\\nInfo: ilifile </app/.ilicache/models.interlis.ch/refhb23/Units-20120220.ili>\\nInfo: ilifile </app/.ilicache/models.interlis.ch/refhb23/CoordSys-20151124.ili>\\nInfo: ilifile </app/.ilicache/models.geo.admin.ch/CH/CHBase_Part1_GEOMETRY_V1.ili>\\nInfo: ilifile </app/.ilicache/models.geo.admin.ch/BFE/WasteIncinerationPlants_V1.ili>\\nInfo: validate data...\\nInfo: first validation pass...\\nInfo: second validation pass...\\nInfo: validate multiplicity of role WasteIncinerationPlants_V1.WasteIncinerationPlant.WasteIncinerationPlantProduction.ProductionR...\\nInfo: validate target of role WasteIncinerationPlants_V1.WasteIncinerationPlant.WasteIncinerationPlantProduction.WasteIncinerationPlantR...\\nInfo: validate multiplicity of role WasteIncinerationPlants_V1.WasteIncinerationPlant.WasteIncinerationPlantProduction.WasteIncinerationPlantR...\\nInfo: object count 390 (structured elements 390)\\nInfo: /uploads/2c5e901a-d92a-459f-b655-06e44b0b490d/lhmrio43.xtf: WasteIncinerationPlants_V1.WasteIncinerationPlant BID=b001\\nInfo: \\xa0   360 objects in CLASS WasteIncinerationPlants_V1.WasteIncinerationPlant.Production\\nInfo: \\xa0    30 objects in CLASS WasteIncinerationPlants_V1.WasteIncinerationPlant.WasteIncinerationPlant\\nInfo: ...validation done\\nInfo: End date 2022-11-18 12:27 validation took 00h:00m:00s.0821ms\\n'"
      ]
     },
     "execution_count": 70,
     "metadata": {},
     "output_type": "execute_result"
    }
   ],
   "source": [
    "# Logfile as Plaintext\n",
    "Logfile = requests.get('https://ilicop.ch/api/v1/download?jobId=' + jobid + '&logType=log')\n",
    "Logfile.text"
   ]
  },
  {
   "cell_type": "code",
   "execution_count": 71,
   "metadata": {},
   "outputs": [],
   "source": [
    "# Save as text file\n",
    "with open('Logfile.txt', 'w') as f:\n",
    "    f.write(Logfile.text)"
   ]
  },
  {
   "cell_type": "code",
   "execution_count": 72,
   "metadata": {},
   "outputs": [
    {
     "data": {
      "text/plain": [
       "'<?xml version=\"1.0\" encoding=\"UTF-8\"?><TRANSFER xmlns=\"http://www.interlis.ch/INTERLIS2.3\">\\n<HEADERSECTION SENDER=\"ilivalidator-1.12.0-0d0c3903d0cd203caac2ae987f9040c2b79ddb42\" VERSION=\"2.3\"><MODELS><MODEL NAME=\"IliVErrors\" VERSION=\"2016-06-10\" URI=\"mailto:ceis@localhost\"></MODEL></MODELS></HEADERSECTION>\\n<DATASECTION>\\n<IliVErrors.ErrorLog BID=\"b1\">\\n<IliVErrors.ErrorLog.Error TID=\"o1\"><Message>ilivalidator-1.12.0-0d0c3903d0cd203caac2ae987f9040c2b79ddb42</Message><Type>Info</Type><TechDetails>validate():  (Validator.java:154)</TechDetails></IliVErrors.ErrorLog.Error>\\n<IliVErrors.ErrorLog.Error TID=\"o2\"><Message>ili2c-5.2.8-61f7212579ac3c4ae219d511afb5a0615855bc73</Message><Type>Info</Type><TechDetails>validate():  (Validator.java:155)</TechDetails></IliVErrors.ErrorLog.Error>\\n<IliVErrors.ErrorLog.Error TID=\"o3\"><Message>iox-ili-1.21.12-87afbf0c8bd2241377fc518d8c40e4e99946bb23</Message><Type>Info</Type><TechDetails>validate():  (Validator.java:156)</TechDetails></IliVErrors.ErrorLog.Error>\\n<IliVErrors.ErrorLog.Error TID=\"o4\"><Message>User &lt;abc&gt;</Message><Type>Info</Type><TechDetails>validate():  (Validator.java:157)</TechDetails></IliVErrors.ErrorLog.Error>\\n<IliVErrors.ErrorLog.Error TID=\"o5\"><Message>Start date 2022-11-18 12:27</Message><Type>Info</Type><TechDetails>validate():  (Validator.java:160)</TechDetails></IliVErrors.ErrorLog.Error>\\n<IliVErrors.ErrorLog.Error TID=\"o6\"><Message>maxMemory 2097152 KB</Message><Type>Info</Type><TechDetails>validate():  (Validator.java:161)</TechDetails></IliVErrors.ErrorLog.Error>\\n<IliVErrors.ErrorLog.Error TID=\"o7\"><Message>dataFile &lt;/uploads/2c5e901a-d92a-459f-b655-06e44b0b490d/lhmrio43.xtf&gt;</Message><Type>Info</Type><TechDetails>validate():  (Validator.java:165)</TechDetails></IliVErrors.ErrorLog.Error>\\n<IliVErrors.ErrorLog.Error TID=\"o8\"><Message>pluginFolder &lt;/ilitools/ilivalidator/1.12.0/plugins&gt;</Message><Type>Info</Type><TechDetails>validate():  (Validator.java:174)</TechDetails></IliVErrors.ErrorLog.Error>\\n<IliVErrors.ErrorLog.Error TID=\"o9\"><Message>modeldir &lt;%ITF_DIR;http://models.interlis.ch/;https://vsa.ch/models&gt;</Message><Type>Info</Type><TechDetails>createRepositoryManager():  (Validator.java:546)</TechDetails></IliVErrors.ErrorLog.Error>\\n<IliVErrors.ErrorLog.Error TID=\"o10\"><Message>lookup model &lt;Units&gt; 2.3 in repository &lt;/uploads/2c5e901a-d92a-459f-b655-06e44b0b490d/&gt;</Message><Type>Info</Type><TechDetails>logRepositoryScan():  (ModelFinder.java:26)</TechDetails></IliVErrors.ErrorLog.Error>\\n<IliVErrors.ErrorLog.Error TID=\"o11\"><Message>lookup model &lt;Units&gt; 2.3 in repository &lt;http://models.interlis.ch/&gt;</Message><Type>Info</Type><TechDetails>logRepositoryScan():  (ModelFinder.java:26)</TechDetails></IliVErrors.ErrorLog.Error>\\n<IliVErrors.ErrorLog.Error TID=\"o12\"><Message>lookup model &lt;WithOneState_V1&gt; 2.3 in repository &lt;/uploads/2c5e901a-d92a-459f-b655-06e44b0b490d/&gt;</Message><Type>Info</Type><TechDetails>logRepositoryScan():  (ModelFinder.java:26)</TechDetails></IliVErrors.ErrorLog.Error>\\n<IliVErrors.ErrorLog.Error TID=\"o13\"><Message>lookup model &lt;WithOneState_V1&gt; 2.3 in repository &lt;http://models.interlis.ch/&gt;</Message><Type>Info</Type><TechDetails>logRepositoryScan():  (ModelFinder.java:26)</TechDetails></IliVErrors.ErrorLog.Error>\\n<IliVErrors.ErrorLog.Error TID=\"o14\"><Message>lookup model &lt;WithOneState_V1&gt; 2.3 in repository &lt;https://vsa.ch/models/&gt;</Message><Type>Info</Type><TechDetails>logRepositoryScan():  (ModelFinder.java:26)</TechDetails></IliVErrors.ErrorLog.Error>\\n<IliVErrors.ErrorLog.Error TID=\"o15\"><Message>lookup model &lt;WithOneState_V1&gt; 2.3 in repository &lt;https://405.sia.ch/models/&gt;</Message><Type>Info</Type><TechDetails>logRepositoryScan():  (ModelFinder.java:26)</TechDetails></IliVErrors.ErrorLog.Error>\\n<IliVErrors.ErrorLog.Error TID=\"o16\"><Message>lookup model &lt;WithOneState_V1&gt; 2.3 in repository &lt;http://models.geo.admin.ch/&gt;</Message><Type>Info</Type><TechDetails>logRepositoryScan():  (ModelFinder.java:26)</TechDetails></IliVErrors.ErrorLog.Error>\\n<IliVErrors.ErrorLog.Error TID=\"o17\"><Message>lookup model &lt;CoordSys&gt; 2.3 in repository &lt;/uploads/2c5e901a-d92a-459f-b655-06e44b0b490d/&gt;</Message><Type>Info</Type><TechDetails>logRepositoryScan():  (ModelFinder.java:26)</TechDetails></IliVErrors.ErrorLog.Error>\\n<IliVErrors.ErrorLog.Error TID=\"o18\"><Message>lookup model &lt;CoordSys&gt; 2.3 in repository &lt;http://models.interlis.ch/&gt;</Message><Type>Info</Type><TechDetails>logRepositoryScan():  (ModelFinder.java:26)</TechDetails></IliVErrors.ErrorLog.Error>\\n<IliVErrors.ErrorLog.Error TID=\"o19\"><Message>lookup model &lt;GeometryCHLV03_V1&gt; 2.3 in repository &lt;/uploads/2c5e901a-d92a-459f-b655-06e44b0b490d/&gt;</Message><Type>Info</Type><TechDetails>logRepositoryScan():  (ModelFinder.java:26)</TechDetails></IliVErrors.ErrorLog.Error>\\n<IliVErrors.ErrorLog.Error TID=\"o20\"><Message>lookup model &lt;GeometryCHLV03_V1&gt; 2.3 in repository &lt;http://models.interlis.ch/&gt;</Message><Type>Info</Type><TechDetails>logRepositoryScan():  (ModelFinder.java:26)</TechDetails></IliVErrors.ErrorLog.Error>\\n<IliVErrors.ErrorLog.Error TID=\"o21\"><Message>lookup model &lt;GeometryCHLV03_V1&gt; 2.3 in repository &lt;https://vsa.ch/models/&gt;</Message><Type>Info</Type><TechDetails>logRepositoryScan():  (ModelFinder.java:26)</TechDetails></IliVErrors.ErrorLog.Error>\\n<IliVErrors.ErrorLog.Error TID=\"o22\"><Message>lookup model &lt;GeometryCHLV03_V1&gt; 2.3 in repository &lt;https://405.sia.ch/models/&gt;</Message><Type>Info</Type><TechDetails>logRepositoryScan():  (ModelFinder.java:26)</TechDetails></IliVErrors.ErrorLog.Error>\\n<IliVErrors.ErrorLog.Error TID=\"o23\"><Message>lookup model &lt;GeometryCHLV03_V1&gt; 2.3 in repository &lt;http://models.geo.admin.ch/&gt;</Message><Type>Info</Type><TechDetails>logRepositoryScan():  (ModelFinder.java:26)</TechDetails></IliVErrors.ErrorLog.Error>\\n<IliVErrors.ErrorLog.Error TID=\"o24\"><Message>lookup model &lt;WasteIncinerationPlants_V1&gt; 2.3 in repository &lt;/uploads/2c5e901a-d92a-459f-b655-06e44b0b490d/&gt;</Message><Type>Info</Type><TechDetails>logRepositoryScan():  (ModelFinder.java:26)</TechDetails></IliVErrors.ErrorLog.Error>\\n<IliVErrors.ErrorLog.Error TID=\"o25\"><Message>lookup model &lt;WasteIncinerationPlants_V1&gt; 2.3 in repository &lt;http://models.interlis.ch/&gt;</Message><Type>Info</Type><TechDetails>logRepositoryScan():  (ModelFinder.java:26)</TechDetails></IliVErrors.ErrorLog.Error>\\n<IliVErrors.ErrorLog.Error TID=\"o26\"><Message>lookup model &lt;WasteIncinerationPlants_V1&gt; 2.3 in repository &lt;https://vsa.ch/models/&gt;</Message><Type>Info</Type><TechDetails>logRepositoryScan():  (ModelFinder.java:26)</TechDetails></IliVErrors.ErrorLog.Error>\\n<IliVErrors.ErrorLog.Error TID=\"o27\"><Message>lookup model &lt;WasteIncinerationPlants_V1&gt; 2.3 in repository &lt;https://405.sia.ch/models/&gt;</Message><Type>Info</Type><TechDetails>logRepositoryScan():  (ModelFinder.java:26)</TechDetails></IliVErrors.ErrorLog.Error>\\n<IliVErrors.ErrorLog.Error TID=\"o28\"><Message>lookup model &lt;WasteIncinerationPlants_V1&gt; 2.3 in repository &lt;http://models.geo.admin.ch/&gt;</Message><Type>Info</Type><TechDetails>logRepositoryScan():  (ModelFinder.java:26)</TechDetails></IliVErrors.ErrorLog.Error>\\n<IliVErrors.ErrorLog.Error TID=\"o29\"><Message>ilifile &lt;/app/.ilicache/models.geo.admin.ch/CH/CHBase_Part5_MODIFICATIONINFO_V1.ili&gt;</Message><Type>Info</Type><TechDetails>logIliFiles():  (Main.java:1125)</TechDetails></IliVErrors.ErrorLog.Error>\\n<IliVErrors.ErrorLog.Error TID=\"o30\"><Message>ilifile &lt;/app/.ilicache/models.interlis.ch/refhb23/Units-20120220.ili&gt;</Message><Type>Info</Type><TechDetails>logIliFiles():  (Main.java:1125)</TechDetails></IliVErrors.ErrorLog.Error>\\n<IliVErrors.ErrorLog.Error TID=\"o31\"><Message>ilifile &lt;/app/.ilicache/models.interlis.ch/refhb23/CoordSys-20151124.ili&gt;</Message><Type>Info</Type><TechDetails>logIliFiles():  (Main.java:1125)</TechDetails></IliVErrors.ErrorLog.Error>\\n<IliVErrors.ErrorLog.Error TID=\"o32\"><Message>ilifile &lt;/app/.ilicache/models.geo.admin.ch/CH/CHBase_Part1_GEOMETRY_V1.ili&gt;</Message><Type>Info</Type><TechDetails>logIliFiles():  (Main.java:1125)</TechDetails></IliVErrors.ErrorLog.Error>\\n<IliVErrors.ErrorLog.Error TID=\"o33\"><Message>ilifile &lt;/app/.ilicache/models.geo.admin.ch/BFE/WasteIncinerationPlants_V1.ili&gt;</Message><Type>Info</Type><TechDetails>logIliFiles():  (Main.java:1125)</TechDetails></IliVErrors.ErrorLog.Error>\\n<IliVErrors.ErrorLog.Error TID=\"o34\"><Message>validate data...</Message><Type>Info</Type><TechDetails>validate():  (Validator.java:283)</TechDetails></IliVErrors.ErrorLog.Error>\\n<IliVErrors.ErrorLog.Error TID=\"o35\"><Message>first validation pass...</Message><Type>Info</Type><DataSource>/uploads/2c5e901a-d92a-459f-b655-06e44b0b490d/lhmrio43.xtf</DataSource><TechDetails>validate():  (Validator.java:361)</TechDetails></IliVErrors.ErrorLog.Error>\\n<IliVErrors.ErrorLog.Error TID=\"o36\"><Message>second validation pass...</Message><Type>Info</Type><DataSource>/uploads/2c5e901a-d92a-459f-b655-06e44b0b490d/lhmrio43.xtf</DataSource><TechDetails>doSecondPass():  (Validator.java:564)</TechDetails></IliVErrors.ErrorLog.Error>\\n<IliVErrors.ErrorLog.Error TID=\"o37\"><Message>validate multiplicity of role WasteIncinerationPlants_V1.WasteIncinerationPlant.WasteIncinerationPlantProduction.ProductionR...</Message><Type>Info</Type><DataSource>/uploads/2c5e901a-d92a-459f-b655-06e44b0b490d/lhmrio43.xtf</DataSource><TechDetails>validateRoleCardinality():  (Validator.java:2346)</TechDetails></IliVErrors.ErrorLog.Error>\\n<IliVErrors.ErrorLog.Error TID=\"o38\"><Message>validate target of role WasteIncinerationPlants_V1.WasteIncinerationPlant.WasteIncinerationPlantProduction.WasteIncinerationPlantR...</Message><Type>Info</Type><DataSource>/uploads/2c5e901a-d92a-459f-b655-06e44b0b490d/lhmrio43.xtf</DataSource><TechDetails>validateRoleReference():  (Validator.java:2380)</TechDetails></IliVErrors.ErrorLog.Error>\\n<IliVErrors.ErrorLog.Error TID=\"o39\"><Message>validate multiplicity of role WasteIncinerationPlants_V1.WasteIncinerationPlant.WasteIncinerationPlantProduction.WasteIncinerationPlantR...</Message><Type>Info</Type><DataSource>/uploads/2c5e901a-d92a-459f-b655-06e44b0b490d/lhmrio43.xtf</DataSource><TechDetails>validateRoleCardinality():  (Validator.java:2346)</TechDetails></IliVErrors.ErrorLog.Error>\\n<IliVErrors.ErrorLog.Error TID=\"o40\"><Message>object count 390 (structured elements 390)</Message><Type>Info</Type><TechDetails>validate():  (Validator.java:365)</TechDetails></IliVErrors.ErrorLog.Error>\\n<IliVErrors.ErrorLog.Error TID=\"o41\"><Message>/uploads/2c5e901a-d92a-459f-b655-06e44b0b490d/lhmrio43.xtf: WasteIncinerationPlants_V1.WasteIncinerationPlant BID=b001</Message><Type>Info</Type><TechDetails>write2logger():  (IoxStatistics.java:72)</TechDetails></IliVErrors.ErrorLog.Error>\\n<IliVErrors.ErrorLog.Error TID=\"o42\"><Message>\\xa0   360 objects in CLASS WasteIncinerationPlants_V1.WasteIncinerationPlant.Production</Message><Type>Info</Type><TechDetails>write2logger():  (IoxStatistics.java:90)</TechDetails></IliVErrors.ErrorLog.Error>\\n<IliVErrors.ErrorLog.Error TID=\"o43\"><Message>\\xa0    30 objects in CLASS WasteIncinerationPlants_V1.WasteIncinerationPlant.WasteIncinerationPlant</Message><Type>Info</Type><TechDetails>write2logger():  (IoxStatistics.java:90)</TechDetails></IliVErrors.ErrorLog.Error>\\n<IliVErrors.ErrorLog.Error TID=\"o44\"><Message>...validation done</Message><Type>Info</Type><TechDetails>validate():  (Validator.java:372)</TechDetails></IliVErrors.ErrorLog.Error>\\n<IliVErrors.ErrorLog.Error TID=\"o45\"><Message>End date 2022-11-18 12:27 validation took 00h:00m:00s.0821ms</Message><Type>Info</Type><TechDetails>validate():  (Validator.java:386)</TechDetails></IliVErrors.ErrorLog.Error>\\n</IliVErrors.ErrorLog>\\n</DATASECTION>\\n</TRANSFER>'"
      ]
     },
     "execution_count": 72,
     "metadata": {},
     "output_type": "execute_result"
    }
   ],
   "source": [
    "# Logfile as XML\n",
    "LogfileXml = requests.get('https://ilicop.ch/api/v1/download?jobId=' + jobid + '&logType=xtf')\n",
    "LogfileXml.text"
   ]
  },
  {
   "cell_type": "code",
   "execution_count": 73,
   "metadata": {},
   "outputs": [],
   "source": [
    "# Save Log file as XML\n",
    "with open('LogfileXml.xml', 'w') as f:\n",
    "    f.write(LogfileXml.text)"
   ]
  },
  {
   "cell_type": "code",
   "execution_count": null,
   "metadata": {},
   "outputs": [],
   "source": []
  }
 ],
 "metadata": {
  "kernelspec": {
   "display_name": "Python 3",
   "language": "python",
   "name": "python3"
  },
  "language_info": {
   "codemirror_mode": {
    "name": "ipython",
    "version": 3
   },
   "file_extension": ".py",
   "mimetype": "text/x-python",
   "name": "python",
   "nbconvert_exporter": "python",
   "pygments_lexer": "ipython3",
   "version": "3.7.1"
  }
 },
 "nbformat": 4,
 "nbformat_minor": 2
}
